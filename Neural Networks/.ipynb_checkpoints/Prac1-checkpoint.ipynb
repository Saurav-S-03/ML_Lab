{
 "cells": [
  {
   "cell_type": "code",
   "execution_count": 4,
   "id": "27dc068a-9850-4c02-b8ca-168921ef8dd6",
   "metadata": {},
   "outputs": [],
   "source": [
    "import numpy as np\n",
    "import matplotlib.pyplot as plt\n",
    "import random"
   ]
  },
  {
   "cell_type": "code",
   "execution_count": 5,
   "id": "18f2a757-ee02-4547-960b-a3de43723cb5",
   "metadata": {},
   "outputs": [],
   "source": [
    "x_train = np.loadtxt('train_X.csv', delimiter = ',').T\n",
    "y_train = np.loadtxt('train_label.csv', delimiter = ',').T\n",
    "\n",
    "x_test = np.loadtxt('test_X.csv', delimiter = ',').T\n",
    "y_test = np.loadtxt('test_label.csv', delimiter = ',').T"
   ]
  },
  {
   "cell_type": "code",
   "execution_count": 6,
   "id": "984dd219-0cef-45de-9a51-ddb065eb618c",
   "metadata": {},
   "outputs": [
    {
     "name": "stdout",
     "output_type": "stream",
     "text": [
      "X_train: (784, 1000)\n",
      "y_train: (10, 1000)\n",
      "X_test: (784, 350)\n",
      "y_test: (10, 350)\n"
     ]
    }
   ],
   "source": [
    "print('X_train:', x_train.shape)\n",
    "print('y_train:', y_train.shape)\n",
    "print('X_test:', x_test.shape)\n",
    "print('y_test:', y_test.shape)"
   ]
  },
  {
   "cell_type": "code",
   "execution_count": 7,
   "id": "f3c6b417-eba9-41d0-97c5-006d1a6a7295",
   "metadata": {},
   "outputs": [
    {
     "data": {
      "image/png": "[encoded data removed]",
      "text/plain": [
       "<Figure size 640x480 with 1 Axes>"
      ]
     },
     "metadata": {},
     "output_type": "display_data"
    }
   ],
   "source": [
    "index = random.randrange(0, x_train.shape[1])\n",
    "plt.imshow(x_train[:,index].reshape((28,28)), cmap='gray')\n",
    "plt.axis('off')\n",
    "plt.show()"
   ]
  },
  {
   "cell_type": "code",
   "execution_count": 8,
   "id": "1f8ec859-13ec-4161-b551-4eab4d2a86f1",
   "metadata": {},
   "outputs": [],
   "source": [
    "def tanh(x):\n",
    "    return np.tanh(x)\n",
    "\n",
    "def relu(x):\n",
    "    return np.maximum(x,0)\n",
    "\n",
    "def softmax(x):\n",
    "    ExpX = np.exp(x)\n",
    "    Res = ExpX/np.sum(ExpX, axis=0)\n",
    "    return Res"
   ]
  },
  {
   "cell_type": "code",
   "execution_count": 9,
   "id": "7a406a6b-b5ef-47da-bdd0-5d86ea26ec6f",
   "metadata": {},
   "outputs": [],
   "source": [
    "def derivative_tanh(x):\n",
    "    return (1 - np.power(np.tanh(x),2))\n",
    "\n",
    "def derivative_relu(x):\n",
    "    return np.array(x>0 , dtype=np.float32)"
   ]
  },
  {
   "cell_type": "code",
   "execution_count": 10,
   "id": "90ffabb5-8bb9-4424-b92a-75a9e282dde9",
   "metadata": {},
   "outputs": [],
   "source": [
    "def init_params(nx, nh1, nh2, ny):\n",
    "    w1 = np.random.randn(nh1, nx)*0.01\n",
    "    b1 = np.zeros((nh1,1))\n",
    "\n",
    "    w2 = np.random.randn(nh2, nh1)*0.01\n",
    "    b2 = np.zeros((nh2,1))\n",
    "\n",
    "    w3 = np.random.randn(ny, nh2)*0.01\n",
    "    b3 = np.zeros((ny,1))\n",
    "\n",
    "    params = {\n",
    "        'w1':w1,\n",
    "        'b1':b1,\n",
    "        'w2':w2,\n",
    "        'b2':b2,\n",
    "        'w3':w3,\n",
    "        'b3':b3\n",
    "    }\n",
    "    return params"
   ]
  },
  {
   "cell_type": "code",
   "execution_count": 11,
   "id": "872f07da-368f-44a5-bf82-72aa7f0060f4",
   "metadata": {},
   "outputs": [],
   "source": [
    "def forward_prop(x,params):\n",
    "    w1 = params['w1']\n",
    "    b1 = params['b1']\n",
    "    w2 = params['w2']\n",
    "    b2 = params['b2']\n",
    "    w3 = params['w3']\n",
    "    b3 = params['b3']\n",
    "\n",
    "    z1 = np.dot(w1,x) + b1\n",
    "    a1 = tanh(z1)\n",
    "    \n",
    "    z2 = np.dot(w2,a1) + b2\n",
    "    a2 = relu(z2)\n",
    "\n",
    "    z3 = np.dot(w3,a2) + b3\n",
    "    a3 = softmax(z3)\n",
    "\n",
    "    neurons = {\n",
    "        'a1':a1,\n",
    "        'z1':z1,\n",
    "        'a2':a2,\n",
    "        'z2':z2,\n",
    "        'a3':a3,\n",
    "        'z3':z3\n",
    "    }\n",
    "    return neurons"
   ]
  },
  {
   "cell_type": "code",
   "execution_count": 12,
   "id": "ca53aad5-c924-47f0-af6c-1dce766fe7bb",
   "metadata": {},
   "outputs": [],
   "source": [
    "def cost(a2, y):\n",
    "    m = y.shape[1]\n",
    "    # Cost = -(1/m)*np.sum(np.sum(y*np.log(a2,0),1))\n",
    "    Cost = -(1/m)*np.sum(y*np.log(a2))\n",
    "    return Cost"
   ]
  },
  {
   "cell_type": "code",
   "execution_count": 13,
   "id": "945afabd-0fc1-49ad-a9d6-902494e9407f",
   "metadata": {},
   "outputs": [],
   "source": [
    "def back_prop(x, y, params, neurons):\n",
    "    m = x.shape[1]\n",
    "    \n",
    "    w3 = params['w3']\n",
    "    b3 = params['b3']\n",
    "    w2 = params['w2']\n",
    "    b2 = params['b2']\n",
    "    w1 = params['w1']\n",
    "    b1 = params['b1']\n",
    "\n",
    "    a3 = neurons['a3']\n",
    "    a2 = neurons['a2']\n",
    "    a1 = neurons['a1']\n",
    "    z3 = neurons['z3']\n",
    "    z2 = neurons['z2']\n",
    "    z1 = neurons['z1']\n",
    "\n",
    "    dZ3 = (a3 - y)\n",
    "    dW3 = (1/m)*np.dot(dZ3,a2.T)\n",
    "    dB3 = (1/m)*np.sum(dZ3, axis=1, keepdims=True)\n",
    "\n",
    "    dZ2 = np.dot(w3.T,dZ3)*derivative_relu(z2)\n",
    "    dW2 = (1/m)*np.dot(dZ2,a1.T)\n",
    "    dB2 = (1/m)*np.sum(dZ2, axis=1, keepdims=True)\n",
    "\n",
    "    dZ1 = np.dot(w2.T,dZ2)*derivative_tanh(z1)\n",
    "    dW1 = (1/m)*np.dot(dZ1,x.T)\n",
    "    dB1 = (1/m)*np.sum(dZ1, axis=1, keepdims=True)\n",
    "\n",
    "    gradients = {\n",
    "        'dW3':dW3,\n",
    "        'dB3':dB3,\n",
    "        'dW2':dW2,\n",
    "        'dB2':dB2,\n",
    "        'dW1':dW1,\n",
    "        'dB1':dB1,\n",
    "    }\n",
    "    return gradients"
   ]
  },
  {
   "cell_type": "code",
   "execution_count": 14,
   "id": "71df42ae-2a5b-4134-9f02-c440b7fc5a00",
   "metadata": {},
   "outputs": [],
   "source": [
    "def update_params(params, gradients, learning_rate):\n",
    "    w3 = params['w3']\n",
    "    b3 = params['b3']\n",
    "    w2 = params['w2']\n",
    "    b2 = params['b2']\n",
    "    w1 = params['w1']\n",
    "    b1 = params['b1']\n",
    "\n",
    "    dW3 = gradients['dW3']\n",
    "    dB3 = gradients['dB3']\n",
    "    dW2 = gradients['dW2']\n",
    "    dB2 = gradients['dB2']\n",
    "    dW1 = gradients['dW1']\n",
    "    dB1 = gradients['dB1']\n",
    "\n",
    "    w3 = w3 - learning_rate*dW3\n",
    "    b3 = b3 - learning_rate*dB3\n",
    "    w2 = w2 - learning_rate*dW2\n",
    "    b2 = b2 - learning_rate*dB2\n",
    "    w1 = w1 - learning_rate*dW1\n",
    "    b1 = b1 - learning_rate*dB1\n",
    "\n",
    "    Parameters = {\n",
    "        'w1':w1,\n",
    "        'b1':b1,\n",
    "        'w2':w2,\n",
    "        'b2':b2,\n",
    "        'w3':w3,\n",
    "        'b3':b3\n",
    "    }\n",
    "    return Parameters"
   ]
  },
  {
   "cell_type": "code",
   "execution_count": 15,
   "id": "c3871e00-7e90-4991-933c-238b581ec2b6",
   "metadata": {},
   "outputs": [],
   "source": [
    "def Accuracy(x, y, params):\n",
    "    Cache = forward_prop(x,params)\n",
    "    Pred = Cache['a3']\n",
    "    Pred = np.argmax(Pred,0)\n",
    "    y = np.argmax(y,0)\n",
    "\n",
    "    acc = np.mean(Pred == y)\n",
    "    return acc"
   ]
  },
  {
   "cell_type": "code",
   "execution_count": 16,
   "id": "4a4e5938-6058-4f46-bb56-a563c4d932ce",
   "metadata": {},
   "outputs": [],
   "source": [
    "def model(x, y, nh1, nh2, learning_rate, iterations):\n",
    "    nx = x.shape[0]\n",
    "    ny = y.shape[0]\n",
    "\n",
    "    Params = init_params(nx,nh1,nh2,ny)\n",
    "    costlist = []\n",
    "\n",
    "    for i in range(iterations):\n",
    "        Neurons = forward_prop(x, Params)\n",
    "        Cost = cost(Neurons['a3'],y)\n",
    "        Grads = back_prop(x, y, Params, Neurons)\n",
    "        Params = update_params(Params, Grads, learning_rate)\n",
    "\n",
    "        if i%(iterations/10) == 0:\n",
    "            print(\"Epoch:\",i,\" - Cost:\",Cost,\" - Accuracy:\",Accuracy(x_train,y_train,Params))\n",
    "        costlist.append(Cost)\n",
    "\n",
    "    return Params,costlist"
   ]
  },
  {
   "cell_type": "code",
   "execution_count": 17,
   "id": "e18c99f8-01be-4e7d-847a-710f3c683093",
   "metadata": {},
   "outputs": [
    {
     "name": "stdout",
     "output_type": "stream",
     "text": [
      "Epoch: 0  - Cost: 2.3023117547522562  - Accuracy: 0.175\n",
      "Epoch: 20  - Cost: 1.956561846103678  - Accuracy: 0.689\n",
      "Epoch: 40  - Cost: 1.3888044628328542  - Accuracy: 0.788\n",
      "Epoch: 60  - Cost: 0.8605901228310016  - Accuracy: 0.914\n",
      "Epoch: 80  - Cost: 0.537884807225096  - Accuracy: 0.968\n",
      "Epoch: 100  - Cost: 0.35915345101125057  - Accuracy: 0.978\n",
      "Epoch: 120  - Cost: 0.2565119564999239  - Accuracy: 0.983\n",
      "Epoch: 140  - Cost: 0.19419054612477357  - Accuracy: 0.988\n",
      "Epoch: 160  - Cost: 0.15451446806830912  - Accuracy: 0.989\n",
      "Epoch: 180  - Cost: 0.1267120831593164  - Accuracy: 0.99\n"
     ]
    }
   ],
   "source": [
    "nh1 = 1024\n",
    "nh2 = 512\n",
    "lr = 0.02\n",
    "itrs = 200\n",
    "\n",
    "Params, costs = model(x_train,y_train,nh1,nh2,lr,itrs)"
   ]
  },
  {
   "cell_type": "code",
   "execution_count": 18,
   "id": "572a9868-4a9e-4442-86d6-d16b5bfdf453",
   "metadata": {},
   "outputs": [
    {
     "data": {
      "image/png": "[encoded data removed]",
      "text/plain": [
       "<Figure size 640x480 with 1 Axes>"
      ]
     },
     "metadata": {},
     "output_type": "display_data"
    }
   ],
   "source": [
    "plt.figure()\n",
    "t = np.arange(itrs)\n",
    "plt.plot(t,costs)\n",
    "plt.show()"
   ]
  },
  {
   "cell_type": "code",
   "execution_count": 19,
   "id": "4c771792-42f9-4a3f-b0d3-b41683604851",
   "metadata": {},
   "outputs": [
    {
     "name": "stdout",
     "output_type": "stream",
     "text": [
      "0.992\n",
      "0.8628571428571429\n"
     ]
    }
   ],
   "source": [
    "acc1 = Accuracy(x_train,y_train,Params)\n",
    "acc2 = Accuracy(x_test,y_test,Params)\n",
    "print(acc1)\n",
    "print(acc2)"
   ]
  },
  {
   "cell_type": "code",
   "execution_count": null,
   "id": "0d710b63-cd72-47c3-b46e-673c5ea6a978",
   "metadata": {},
   "outputs": [],
   "source": []
  }
 ],
 "metadata": {
  "kernelspec": {
   "display_name": "Python 3 (ipykernel)",
   "language": "python",
   "name": "python3"
  },
  "language_info": {
   "codemirror_mode": {
    "name": "ipython",
    "version": 3
   },
   "file_extension": ".py",
   "mimetype": "text/x-python",
   "name": "python",
   "nbconvert_exporter": "python",
   "pygments_lexer": "ipython3",
   "version": "3.12.2"
  }
 },
 "nbformat": 4,
 "nbformat_minor": 5
}
