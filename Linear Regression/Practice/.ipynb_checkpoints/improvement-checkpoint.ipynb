{
 "cells": [
  {
   "cell_type": "code",
   "execution_count": 1,
   "id": "6b304cde-efb8-48ae-be5a-ae8e36317d62",
   "metadata": {},
   "outputs": [],
   "source": [
    "import numpy as np\n",
    "import pandas as pd\n",
    "import matplotlib.pyplot as plt"
   ]
  },
  {
   "cell_type": "code",
   "execution_count": 2,
   "id": "b477300b-f872-47de-a8cb-0d64a2b7fb02",
   "metadata": {},
   "outputs": [],
   "source": [
    "from sklearn.model_selection import train_test_split"
   ]
  },
  {
   "cell_type": "code",
   "execution_count": 3,
   "id": "3ed84e5e-d1ae-47e0-b262-696b786a13a1",
   "metadata": {},
   "outputs": [],
   "source": [
    "DataSet = pd.read_excel(\"Concrete_Data.xls\")"
   ]
  },
  {
   "cell_type": "code",
   "execution_count": 4,
   "id": "cbac67ca-233a-4bd0-a9e7-b35031ad7ec5",
   "metadata": {},
   "outputs": [],
   "source": [
    "def Normalize(X):\n",
    "    for col in X.columns:\n",
    "        X[col] = (X[col] - X[col].mean())/X[col].std()\n",
    "    return X"
   ]
  },
  {
   "cell_type": "code",
   "execution_count": 5,
   "id": "b2008532-ad27-4037-a570-72e0d4e6d152",
   "metadata": {},
   "outputs": [
    {
     "data": {
      "text/html": [
       "<div>\n",
       "<style scoped>\n",
       "    .dataframe tbody tr th:only-of-type {\n",
       "        vertical-align: middle;\n",
       "    }\n",
       "\n",
       "    .dataframe tbody tr th {\n",
       "        vertical-align: top;\n",
       "    }\n",
       "\n",
       "    .dataframe thead th {\n",
       "        text-align: right;\n",
       "    }\n",
       "</style>\n",
       "<table border=\"1\" class=\"dataframe\">\n",
       "  <thead>\n",
       "    <tr style=\"text-align: right;\">\n",
       "      <th></th>\n",
       "      <th>Cement (component 1)(kg in a m^3 mixture)</th>\n",
       "      <th>Blast Furnace Slag (component 2)(kg in a m^3 mixture)</th>\n",
       "      <th>Fly Ash (component 3)(kg in a m^3 mixture)</th>\n",
       "      <th>Water  (component 4)(kg in a m^3 mixture)</th>\n",
       "      <th>Superplasticizer (component 5)(kg in a m^3 mixture)</th>\n",
       "      <th>Coarse Aggregate  (component 6)(kg in a m^3 mixture)</th>\n",
       "      <th>Fine Aggregate (component 7)(kg in a m^3 mixture)</th>\n",
       "      <th>Age (day)</th>\n",
       "      <th>Concrete compressive strength(MPa, megapascals)</th>\n",
       "    </tr>\n",
       "  </thead>\n",
       "  <tbody>\n",
       "    <tr>\n",
       "      <th>0</th>\n",
       "      <td>540.0</td>\n",
       "      <td>0.0</td>\n",
       "      <td>0.0</td>\n",
       "      <td>162.0</td>\n",
       "      <td>2.5</td>\n",
       "      <td>1040.0</td>\n",
       "      <td>676.0</td>\n",
       "      <td>28</td>\n",
       "      <td>79.986111</td>\n",
       "    </tr>\n",
       "    <tr>\n",
       "      <th>1</th>\n",
       "      <td>540.0</td>\n",
       "      <td>0.0</td>\n",
       "      <td>0.0</td>\n",
       "      <td>162.0</td>\n",
       "      <td>2.5</td>\n",
       "      <td>1055.0</td>\n",
       "      <td>676.0</td>\n",
       "      <td>28</td>\n",
       "      <td>61.887366</td>\n",
       "    </tr>\n",
       "    <tr>\n",
       "      <th>2</th>\n",
       "      <td>332.5</td>\n",
       "      <td>142.5</td>\n",
       "      <td>0.0</td>\n",
       "      <td>228.0</td>\n",
       "      <td>0.0</td>\n",
       "      <td>932.0</td>\n",
       "      <td>594.0</td>\n",
       "      <td>270</td>\n",
       "      <td>40.269535</td>\n",
       "    </tr>\n",
       "    <tr>\n",
       "      <th>3</th>\n",
       "      <td>332.5</td>\n",
       "      <td>142.5</td>\n",
       "      <td>0.0</td>\n",
       "      <td>228.0</td>\n",
       "      <td>0.0</td>\n",
       "      <td>932.0</td>\n",
       "      <td>594.0</td>\n",
       "      <td>365</td>\n",
       "      <td>41.052780</td>\n",
       "    </tr>\n",
       "    <tr>\n",
       "      <th>4</th>\n",
       "      <td>198.6</td>\n",
       "      <td>132.4</td>\n",
       "      <td>0.0</td>\n",
       "      <td>192.0</td>\n",
       "      <td>0.0</td>\n",
       "      <td>978.4</td>\n",
       "      <td>825.5</td>\n",
       "      <td>360</td>\n",
       "      <td>44.296075</td>\n",
       "    </tr>\n",
       "    <tr>\n",
       "      <th>...</th>\n",
       "      <td>...</td>\n",
       "      <td>...</td>\n",
       "      <td>...</td>\n",
       "      <td>...</td>\n",
       "      <td>...</td>\n",
       "      <td>...</td>\n",
       "      <td>...</td>\n",
       "      <td>...</td>\n",
       "      <td>...</td>\n",
       "    </tr>\n",
       "    <tr>\n",
       "      <th>1025</th>\n",
       "      <td>276.4</td>\n",
       "      <td>116.0</td>\n",
       "      <td>90.3</td>\n",
       "      <td>179.6</td>\n",
       "      <td>8.9</td>\n",
       "      <td>870.1</td>\n",
       "      <td>768.3</td>\n",
       "      <td>28</td>\n",
       "      <td>44.284354</td>\n",
       "    </tr>\n",
       "    <tr>\n",
       "      <th>1026</th>\n",
       "      <td>322.2</td>\n",
       "      <td>0.0</td>\n",
       "      <td>115.6</td>\n",
       "      <td>196.0</td>\n",
       "      <td>10.4</td>\n",
       "      <td>817.9</td>\n",
       "      <td>813.4</td>\n",
       "      <td>28</td>\n",
       "      <td>31.178794</td>\n",
       "    </tr>\n",
       "    <tr>\n",
       "      <th>1027</th>\n",
       "      <td>148.5</td>\n",
       "      <td>139.4</td>\n",
       "      <td>108.6</td>\n",
       "      <td>192.7</td>\n",
       "      <td>6.1</td>\n",
       "      <td>892.4</td>\n",
       "      <td>780.0</td>\n",
       "      <td>28</td>\n",
       "      <td>23.696601</td>\n",
       "    </tr>\n",
       "    <tr>\n",
       "      <th>1028</th>\n",
       "      <td>159.1</td>\n",
       "      <td>186.7</td>\n",
       "      <td>0.0</td>\n",
       "      <td>175.6</td>\n",
       "      <td>11.3</td>\n",
       "      <td>989.6</td>\n",
       "      <td>788.9</td>\n",
       "      <td>28</td>\n",
       "      <td>32.768036</td>\n",
       "    </tr>\n",
       "    <tr>\n",
       "      <th>1029</th>\n",
       "      <td>260.9</td>\n",
       "      <td>100.5</td>\n",
       "      <td>78.3</td>\n",
       "      <td>200.6</td>\n",
       "      <td>8.6</td>\n",
       "      <td>864.5</td>\n",
       "      <td>761.5</td>\n",
       "      <td>28</td>\n",
       "      <td>32.401235</td>\n",
       "    </tr>\n",
       "  </tbody>\n",
       "</table>\n",
       "<p>1030 rows × 9 columns</p>\n",
       "</div>"
      ],
      "text/plain": [
       "      Cement (component 1)(kg in a m^3 mixture)  \\\n",
       "0                                         540.0   \n",
       "1                                         540.0   \n",
       "2                                         332.5   \n",
       "3                                         332.5   \n",
       "4                                         198.6   \n",
       "...                                         ...   \n",
       "1025                                      276.4   \n",
       "1026                                      322.2   \n",
       "1027                                      148.5   \n",
       "1028                                      159.1   \n",
       "1029                                      260.9   \n",
       "\n",
       "      Blast Furnace Slag (component 2)(kg in a m^3 mixture)  \\\n",
       "0                                                   0.0       \n",
       "1                                                   0.0       \n",
       "2                                                 142.5       \n",
       "3                                                 142.5       \n",
       "4                                                 132.4       \n",
       "...                                                 ...       \n",
       "1025                                              116.0       \n",
       "1026                                                0.0       \n",
       "1027                                              139.4       \n",
       "1028                                              186.7       \n",
       "1029                                              100.5       \n",
       "\n",
       "      Fly Ash (component 3)(kg in a m^3 mixture)  \\\n",
       "0                                            0.0   \n",
       "1                                            0.0   \n",
       "2                                            0.0   \n",
       "3                                            0.0   \n",
       "4                                            0.0   \n",
       "...                                          ...   \n",
       "1025                                        90.3   \n",
       "1026                                       115.6   \n",
       "1027                                       108.6   \n",
       "1028                                         0.0   \n",
       "1029                                        78.3   \n",
       "\n",
       "      Water  (component 4)(kg in a m^3 mixture)  \\\n",
       "0                                         162.0   \n",
       "1                                         162.0   \n",
       "2                                         228.0   \n",
       "3                                         228.0   \n",
       "4                                         192.0   \n",
       "...                                         ...   \n",
       "1025                                      179.6   \n",
       "1026                                      196.0   \n",
       "1027                                      192.7   \n",
       "1028                                      175.6   \n",
       "1029                                      200.6   \n",
       "\n",
       "      Superplasticizer (component 5)(kg in a m^3 mixture)  \\\n",
       "0                                                   2.5     \n",
       "1                                                   2.5     \n",
       "2                                                   0.0     \n",
       "3                                                   0.0     \n",
       "4                                                   0.0     \n",
       "...                                                 ...     \n",
       "1025                                                8.9     \n",
       "1026                                               10.4     \n",
       "1027                                                6.1     \n",
       "1028                                               11.3     \n",
       "1029                                                8.6     \n",
       "\n",
       "      Coarse Aggregate  (component 6)(kg in a m^3 mixture)  \\\n",
       "0                                                1040.0      \n",
       "1                                                1055.0      \n",
       "2                                                 932.0      \n",
       "3                                                 932.0      \n",
       "4                                                 978.4      \n",
       "...                                                 ...      \n",
       "1025                                              870.1      \n",
       "1026                                              817.9      \n",
       "1027                                              892.4      \n",
       "1028                                              989.6      \n",
       "1029                                              864.5      \n",
       "\n",
       "      Fine Aggregate (component 7)(kg in a m^3 mixture)  Age (day)  \\\n",
       "0                                                 676.0         28   \n",
       "1                                                 676.0         28   \n",
       "2                                                 594.0        270   \n",
       "3                                                 594.0        365   \n",
       "4                                                 825.5        360   \n",
       "...                                                 ...        ...   \n",
       "1025                                              768.3         28   \n",
       "1026                                              813.4         28   \n",
       "1027                                              780.0         28   \n",
       "1028                                              788.9         28   \n",
       "1029                                              761.5         28   \n",
       "\n",
       "      Concrete compressive strength(MPa, megapascals)   \n",
       "0                                            79.986111  \n",
       "1                                            61.887366  \n",
       "2                                            40.269535  \n",
       "3                                            41.052780  \n",
       "4                                            44.296075  \n",
       "...                                                ...  \n",
       "1025                                         44.284354  \n",
       "1026                                         31.178794  \n",
       "1027                                         23.696601  \n",
       "1028                                         32.768036  \n",
       "1029                                         32.401235  \n",
       "\n",
       "[1030 rows x 9 columns]"
      ]
     },
     "execution_count": 5,
     "metadata": {},
     "output_type": "execute_result"
    }
   ],
   "source": [
    "# DataSet = Normalize(DataSet)\n",
    "DataSet"
   ]
  },
  {
   "cell_type": "code",
   "execution_count": 6,
   "id": "081d6e00-5886-4c97-bd17-765d99a81940",
   "metadata": {},
   "outputs": [
    {
     "data": {
      "text/plain": [
       "numpy.ndarray"
      ]
     },
     "execution_count": 6,
     "metadata": {},
     "output_type": "execute_result"
    }
   ],
   "source": [
    "DF = DataSet.values\n",
    "type(DF)"
   ]
  },
  {
   "cell_type": "code",
   "execution_count": 7,
   "id": "9190cf6c-a566-4398-877a-7a9f97c5beda",
   "metadata": {},
   "outputs": [
    {
     "name": "stdout",
     "output_type": "stream",
     "text": [
      "1030 9 824\n"
     ]
    }
   ],
   "source": [
    "X = DF[:,0:8]\n",
    "Y = DF[:,8]\n",
    "N = DF.shape[0]\n",
    "M = DF.shape[1]\n",
    "P = (N*4)//5\n",
    "print(N,M,P)"
   ]
  },
  {
   "cell_type": "code",
   "execution_count": 8,
   "id": "b4211e34-802a-421b-b1ef-9caee1dc2d17",
   "metadata": {},
   "outputs": [],
   "source": [
    "X_train, X_test, Y_train, Y_test = train_test_split(X,Y,train_size=0.8, random_state=50)"
   ]
  },
  {
   "cell_type": "code",
   "execution_count": 9,
   "id": "9344386b-6e3b-4519-b3a4-c2640964d8c0",
   "metadata": {},
   "outputs": [
    {
     "name": "stdout",
     "output_type": "stream",
     "text": [
      "[[ 425.   106.3    0.  ...  852.1  887.1    3. ]\n",
      " [ 276.   116.    90.  ...  870.   768.    28. ]\n",
      " [ 349.     0.     0.  ... 1047.   806.9    3. ]\n",
      " ...\n",
      " [ 374.   189.2    0.  ...  926.1  756.7    3. ]\n",
      " [ 362.6  189.     0.  ...  944.7  755.8   28. ]\n",
      " [ 362.6  189.     0.  ...  944.7  755.8    7. ]]\n"
     ]
    },
    {
     "data": {
      "text/plain": [
       "(824, 8)"
      ]
     },
     "execution_count": 9,
     "metadata": {},
     "output_type": "execute_result"
    }
   ],
   "source": [
    "print(X_train)\n",
    "X_train.shape"
   ]
  },
  {
   "cell_type": "code",
   "execution_count": 10,
   "id": "f72902bb-543f-4c67-afb8-cf72b7c20509",
   "metadata": {},
   "outputs": [
    {
     "name": "stdout",
     "output_type": "stream",
     "text": [
      "[[ 491.    26.   123.  ...  822.   699.    28. ]\n",
      " [ 277.     0.     0.  ...  968.   856.    14. ]\n",
      " [ 192.   288.     0.  ...  929.8  716.1   90. ]\n",
      " ...\n",
      " [ 525.     0.     0.  ... 1125.   613.   180. ]\n",
      " [ 446.    24.    79.  ...  967.   712.    56. ]\n",
      " [ 387.    20.    94.  ...  938.   845.     7. ]]\n"
     ]
    },
    {
     "data": {
      "text/plain": [
       "(206, 8)"
      ]
     },
     "execution_count": 10,
     "metadata": {},
     "output_type": "execute_result"
    }
   ],
   "source": [
    "print(X_test)\n",
    "X_test.shape"
   ]
  },
  {
   "cell_type": "code",
   "execution_count": 11,
   "id": "84b1ad3a-81ce-49f5-9aa1-06886f40502d",
   "metadata": {},
   "outputs": [
    {
     "name": "stdout",
     "output_type": "stream",
     "text": [
      "[33.39821744 44.27814872 15.04919265 33.0431373  17.16588397 40.85834776\n",
      " 33.72916592 16.50398701 31.715896   43.94237391 36.83870268 14.54104884\n",
      " 17.95947085 28.62704352 18.12632404 12.17614616 42.14008364 60.9496784\n",
      " 45.2985732  77.29715436 44.86420332 38.99676256 39.41734292 12.24509376\n",
      " 74.98740976 21.60128308 37.72192144 37.42475728 42.22902605 38.60376124\n",
      " 77.29715436 26.96540636 39.05192064 33.00383717 56.09576736 38.610656\n",
      " 35.17017076 27.42046052 30.14389072 39.6103962  27.04124872 25.02108404\n",
      " 32.10269204 71.69860924 17.57474324 41.885667   19.76520849 41.54230795\n",
      " 13.46132942 32.76389952 63.52831864 23.52423164 64.30053176 39.64487\n",
      " 31.74347504 35.34253976 23.52354217 29.7508894  13.71367764 33.19206412\n",
      " 15.81657944 53.104131   69.65776028 15.69109481 31.35047372 32.24541357\n",
      " 50.69717028 31.89998609 24.04616498 11.36256448 33.48883428 52.5035974\n",
      " 49.97322048 53.30063166 13.29309728 40.7135578  39.60488039 27.66177712\n",
      " 44.42293868 49.99390476  9.61750072 51.3314882  79.40005616 38.40795006\n",
      " 29.41304616 26.91714304 38.01770664 31.87516496 22.83544512 40.14818748\n",
      " 11.98309288 40.56876784 11.39221195 32.23989776 48.67011084 39.300132\n",
      " 10.53588276  6.28043688 27.53077668 45.08483564 64.90037588 17.22311048\n",
      "  8.20407492 21.91154728 19.69143456 16.26473884 32.72046253 17.24379476\n",
      " 21.02212324  9.69472204 31.25394708 44.0919902  26.77235308  7.83934212\n",
      " 58.52272288 39.6993386  24.90387312 10.7875415  35.10122316 38.99538361\n",
      " 15.60973664 42.54756396 21.16001844 44.38846488 20.96696516 26.94472208\n",
      " 35.85964676 42.21661548 51.25564584 41.54299743 45.85429086 31.02642\n",
      " 26.14768782 33.71882378 55.89581932 27.22051248 10.53519328 55.25460664\n",
      " 28.46846404 19.00885332 52.20022796 43.56523054 41.68434001 73.29819356\n",
      " 25.08313688 30.2335226  31.97100212 51.72448952 39.45181672 37.43165204\n",
      " 13.22414968 47.09810556 66.78067543 23.51802636 24.40055564 67.568648\n",
      " 12.17614616 51.0556978  70.69886904 49.24927068 37.99702236  4.78220554\n",
      " 42.79577532 53.52471136 29.07313449 41.540929   15.52010476 31.4201108\n",
      " 32.06821824 21.81984697 13.33446584 44.20782217 11.1695112  28.59946448\n",
      " 25.46096973 20.59395864 22.89749796 26.0621928  15.36152528 41.36856\n",
      " 46.6430514  25.17966352 53.69225402 56.69561148 19.0095428  39.0560575\n",
      " 30.43967592 74.36491146 23.8903434  65.19685056 11.85209244 56.8472962\n",
      " 49.20100736 50.23522136 59.30183076 59.59042572 35.75425543 24.98661024\n",
      " 21.6495464  32.8535314  40.0585556  26.40003604 35.57006684 38.89334116\n",
      " 67.30664712 19.41564416 62.93536928 40.28509772 33.21205892 15.56836808\n",
      " 33.11691123 22.752708   14.58931216  6.46728488 25.2003478  37.42475728\n",
      " 61.23236356 25.510612   31.6469484  26.92265885 36.93522932 13.19657064\n",
      " 25.21689522 71.29871316 27.62730332 79.29663476 29.06830816 44.6118551\n",
      " 38.70028788 60.2946762  45.83636448 60.19814956 73.69808964 41.05346947\n",
      " 40.679084   20.72564856 30.44726016 13.39553372 79.29663476 19.76520849\n",
      " 44.51946532 35.76312012 44.14025352 52.51669744  9.99050724 33.39821744\n",
      "  7.39807748 31.96686526 21.78054684 69.29923276 56.33708396 40.93419012\n",
      " 17.27551066  6.94095489 68.75060685 56.61907964 49.20100736 23.52492112\n",
      " 33.76226077 13.81709904 33.7153764  33.75674496 64.30053176 28.99108685\n",
      " 55.06431126 31.53663224 36.63875464 33.70158688 39.37597436 66.10006412\n",
      "  9.4458212  19.53906036 31.44700036 61.88736576 33.00521612 61.23581094\n",
      " 14.98920824 17.23621052 24.10408096 23.5111316  23.69039536 47.81378165\n",
      " 12.47262084 79.29663476 82.5992248  39.300132   37.91428524 29.23171397\n",
      " 58.79851328 33.79811352 44.13335876 55.50971276 37.36339392 35.36322404\n",
      " 37.26548832 19.1991487  64.30053176 57.02655996 33.30651713 31.0236621\n",
      "  9.73540112 33.39821744 33.4195912  48.97348028 38.70028788 65.99664272\n",
      " 45.69846928 30.27558064 32.66047812 32.72253096 32.01138572 49.77327244\n",
      " 42.03045696 33.27411176 10.08979178 33.5430074  52.42086028 36.80422888\n",
      " 17.54026944 35.31427124 40.92522693 48.15300384 57.59882504 36.4388066\n",
      " 46.89815752 37.2661778  13.52062436 23.786922   67.69964844 47.8151606\n",
      " 40.2309246  46.23419213 29.15794004 31.35047372  7.50701469 17.54026944\n",
      " 49.89737812 41.40992856 16.10960674 26.200088   43.5748832  31.81242264\n",
      " 24.00065956 74.4978818  12.45883132 52.90831981 21.50475644 35.3011712\n",
      " 51.03501352 43.6982994  29.72331036 26.84819544 40.8686899  32.10988228\n",
      " 53.65502232 36.3498642  41.05277999 17.57612219 39.58971192 25.72641799\n",
      " 49.80085148 42.69924868 36.3009114  64.90037588 21.0634918   4.5650206\n",
      " 42.6440906  45.08483564 29.44751996 37.91704314 33.39821744 10.76272036\n",
      " 68.29949256 43.89204216 25.44786968 37.32823064 24.43778734 26.8550902\n",
      " 33.41890172 15.0305768  79.29663476 47.22221124 51.86376367 46.68441996\n",
      " 43.49904084 46.2293658  29.65436276  7.99585317 22.13907436  8.53571288\n",
      " 37.16965116 21.91154728 15.09125069 20.77391188 37.79707432 33.60506024\n",
      " 50.93848688 38.20386516 25.11662572 57.226508   25.17966352 34.77027468\n",
      " 39.2656582  22.50449664 41.8367142  47.7117392  26.32281473 23.83518532\n",
      " 10.22217118 33.08795324 55.64760796 24.44881896 12.37264682 23.4049523\n",
      " 37.36270444 40.75906322 12.18097249 45.30477848 44.20920112 14.94094492\n",
      " 50.65511224 48.4012152  27.67556664 22.93197176 43.57833058 33.3016908\n",
      " 31.35047372 69.83702404 52.44154456 24.28334472 37.34202016 28.99936056\n",
      " 61.79773388 24.13166    22.53207568 41.05140104 35.9561734  14.63826496\n",
      " 14.49968028 67.86512268 54.27555072 32.40123514 32.03994972 27.8748252\n",
      " 65.69721315 58.60546    24.0654703  32.6266938   9.84965715 38.76923548\n",
      " 47.27736932 51.73276323 17.96429718 28.29609504 36.3009114  71.62276688\n",
      " 18.28490352 42.29245784 17.54026944 32.32952964 59.09498796 39.32150576\n",
      " 24.24197616 48.28400428 19.35014394 43.0577762  40.65839972 26.14492992\n",
      " 42.63719584 42.1269836  15.08573488 42.13112046 17.36790044 38.6306508\n",
      " 52.44637089 35.22532884 33.0603742  12.4595208  29.59230992 23.34565736\n",
      " 25.0969264  30.12320644  3.31982694 80.19984832 31.41942132 15.57526284\n",
      " 35.86585204 15.04436632 48.79421652 38.50033984 45.70536404 23.13881456\n",
      " 33.05347944 21.17932377 30.38520732 43.37700359 31.38150014 15.43736764\n",
      " 33.72916592 31.35047372 66.69990824 29.21999288 29.7853632  25.89396066\n",
      " 39.70002808 19.10537996  9.307926   47.7144971   6.90234424 44.52045028\n",
      " 17.20035777 35.22532884 32.82319446 29.86810032 41.24445432 36.2519586\n",
      " 74.19451236 41.36856    22.43554904 15.74832132 27.82725136 23.84897484\n",
      " 58.78472376 28.9379972  11.57630204 42.13387836 66.89985628 14.306627\n",
      " 43.6982994  22.7182342   7.31534036 34.20490436  7.72351015 10.0318758\n",
      " 21.91706309 32.88455782 38.56239268 59.89478012 35.852752   37.404073\n",
      " 53.77223324  8.06342182 32.922479   20.41607384 33.56369168 48.58737372\n",
      " 24.49708228 65.19685056 34.48758952 33.01900564 39.1622368  25.72434956\n",
      " 14.5968964   8.53640236 35.2322236  17.59680647 18.74616296 34.73580088\n",
      " 13.20208645 18.03393426 26.0621928  11.6549023  49.18514941 25.62092816\n",
      " 46.80163088 60.32225524 66.82401392 43.01296026 19.69143456 14.14391066\n",
      " 33.39959639 26.23318285 71.29871316 76.80073164 13.52062436 17.83674412\n",
      " 71.98818916 45.3675208   9.01145132 43.25082948 28.98557104 20.72564856\n",
      " 50.45930106 12.05204048 13.66403537 22.34798559 21.29101888 56.3991368\n",
      " 25.55887532 37.91428524 46.24315532 46.2293658  54.37828264 55.82687172\n",
      " 51.4349096  61.99078716 31.11605188 24.00065956 24.65566176 42.42345828\n",
      " 24.3385028  47.96684532 21.48062478 65.90701084 36.93522932 44.39535964\n",
      " 61.85584685 46.24729218 13.35515012 20.91870184 53.52402188 10.3938507\n",
      " 41.20308576 50.07664188 28.23748958 25.60910857 32.05167081 25.68987576\n",
      " 39.2311844  14.69962832 54.31554033 24.28196577 34.29453624  9.56165317\n",
      " 37.42751518 52.61391356 37.6798634  24.53845084 56.49566344 57.21823429\n",
      " 17.95395504 28.096147   39.94134468 10.38350856 21.8591471  68.09954452\n",
      " 27.68108245 21.0662497  23.80071152 52.82696164 37.43165204 27.234302\n",
      " 14.39625888 33.70158688 42.919881   24.84871504 64.90037588 49.77327244\n",
      " 17.3403214  42.32693164  7.67593631 34.55653712 36.58842289 32.76803638\n",
      " 52.42637609 22.31833812 44.02993736 29.58541516 37.43785732 50.94882902\n",
      " 48.69562145 44.32641204 13.54130864  9.13142014 39.58281716 53.90323368\n",
      " 55.26012245 44.52360218 25.5595648  59.79825348 31.17810472 40.14818748\n",
      " 23.63917715 41.05140104 15.56974703 26.91369566 32.72253096 55.45455468\n",
      " 41.9346198  31.64005364 39.48629052 45.93978588 52.82075636 21.7529678\n",
      " 44.284354   53.46196904 29.55094136 36.96970312 52.20022796 32.53292506\n",
      " 18.28766142 32.90179472 43.73346268 50.51101176 23.07676172 77.29715436\n",
      " 25.17966352 38.21558625 43.38872468 39.38286912 56.14196225 14.98920824\n",
      " 12.54156844 53.57917996 55.55108132 40.85696881 33.79811352 48.71837416\n",
      " 81.75116932 37.81086384 33.68779736 39.45595358 15.06997543 33.94772981\n",
      "  8.48744956 29.54897143 44.86834018 55.94408264 52.1243856  46.68441996\n",
      " 31.2677366  59.19840936 34.6806428  53.72396992 55.15808    32.39847724\n",
      "  7.74971024 29.93015316 29.87085822 51.95891136 44.2960751  10.33593472\n",
      " 22.94576128 34.67374804 30.07976945 36.9903874  65.19685056 36.34917472\n",
      " 11.46598588 24.0971862  33.96358776 72.09850532 39.4352693  37.231704\n",
      " 45.3675208  56.7438748  34.90127512 19.41564416 55.6407132  51.04190828\n",
      " 31.84000168 50.52686971 60.28088668 24.48329276 35.07640202 24.39366088\n",
      " 58.99846132  9.73126426 43.79827342 24.8900836  68.4994406  30.9574724\n",
      " 25.57335432 54.59891496 23.73865868  9.86640156 75.497622   35.3011712\n",
      " 77.29715436 72.99482412 46.93194184 37.81362174 12.78840085 30.6472082\n",
      " 63.3973182  33.798803   12.83804312 21.53923024 46.20178676 79.98611076\n",
      " 23.8358748  36.14922668 14.79615496 74.69782984 15.41668336 23.74417449\n",
      " 33.68779736 30.21973308 13.08901238 41.15137506 55.55108132 16.87837248\n",
      " 54.09628696 12.5484632  41.2996124  20.87043852 55.19944856 23.24519085\n",
      " 62.05284    28.6822016  36.80491836 55.89581932 47.401475   33.08243743\n",
      " 41.63745564 27.923778   76.23536132 71.29871316 40.38950408 54.89607912\n",
      " 36.44570136 38.45897128 66.59648684 15.52631004 48.9872698  53.95839176\n",
      " 28.79941252 24.91766264 49.20100736 23.69660064 17.9953236  34.39795764\n",
      " 71.29871316 55.89581932]\n"
     ]
    },
    {
     "data": {
      "text/plain": [
       "(824,)"
      ]
     },
     "execution_count": 11,
     "metadata": {},
     "output_type": "execute_result"
    }
   ],
   "source": [
    "print(Y_train)\n",
    "Y_train.shape"
   ]
  },
  {
   "cell_type": "code",
   "execution_count": 12,
   "id": "4fa5be49-870b-403c-854b-860e2a0a3175",
   "metadata": {},
   "outputs": [
    {
     "name": "stdout",
     "output_type": "stream",
     "text": [
      "[[ 425.   106.3    0.  ...  852.1  887.1    3. ]\n",
      " [ 276.   116.    90.  ...  870.   768.    28. ]\n",
      " [ 349.     0.     0.  ... 1047.   806.9    3. ]\n",
      " ...\n",
      " [ 374.   189.2    0.  ...  926.1  756.7    3. ]\n",
      " [ 362.6  189.     0.  ...  944.7  755.8   28. ]\n",
      " [ 362.6  189.     0.  ...  944.7  755.8    7. ]]\n"
     ]
    }
   ],
   "source": [
    "print(X_train)"
   ]
  },
  {
   "cell_type": "code",
   "execution_count": 13,
   "id": "cea5b60a-5576-4d44-9b47-753633b85235",
   "metadata": {},
   "outputs": [],
   "source": [
    "def cost(Y, y_pred):\n",
    "    sum = np.sum(np.square(Y-y_pred))\n",
    "    Cost = sum / (2*Y.shape[0])\n",
    "    return Cost"
   ]
  },
  {
   "cell_type": "code",
   "execution_count": 14,
   "id": "aeffc253-b0be-43c4-b013-cee790bbfb06",
   "metadata": {},
   "outputs": [],
   "source": [
    "def model(X, Y, iterations, alpha):\n",
    "    m = X.shape[0]\n",
    "    X = np.c_[np.ones(X.shape[0]),X]\n",
    "    print(X.shape)\n",
    "    theta = np.zeros(X.shape[1]).reshape(X.shape[1],1)\n",
    "    Y = Y.reshape(m,1)\n",
    "    \n",
    "    cost_list = []\n",
    "    for i in range(iterations):\n",
    "        y_pred = np.dot(X,theta)\n",
    "        Cost = cost(Y,y_pred)\n",
    "        cost_list.append(Cost)\n",
    "\n",
    "        d_theta = (np.dot(X.T, (y_pred-Y))) * (1/m)\n",
    "        theta = theta - alpha*(d_theta)\n",
    "\n",
    "        if(i%100 == 0):\n",
    "            print(\"At epoch :\",i,\" cost =\",Cost)\n",
    "    return theta,cost_list"
   ]
  },
  {
   "cell_type": "code",
   "execution_count": 15,
   "id": "382ca46f-9a65-4508-83dd-1ec719d8b0b4",
   "metadata": {},
   "outputs": [
    {
     "name": "stdout",
     "output_type": "stream",
     "text": [
      "(824, 9)\n",
      "At epoch : 0  cost = 791.1932378748471\n",
      "At epoch : 100  cost = 134.9032696177303\n",
      "At epoch : 200  cost = 126.67680593869937\n",
      "At epoch : 300  cost = 119.87936995584147\n",
      "At epoch : 400  cost = 114.2237556217104\n",
      "At epoch : 500  cost = 109.4830239077447\n",
      "At epoch : 600  cost = 105.47764314976523\n",
      "At epoch : 700  cost = 102.0653971589032\n",
      "At epoch : 800  cost = 99.13346218657301\n",
      "At epoch : 900  cost = 96.59218390321367\n"
     ]
    }
   ],
   "source": [
    "iters = 1000\n",
    "alpha = 0.0000001\n",
    "theta, costs = model(X_train, Y_train, iters, alpha)"
   ]
  },
  {
   "cell_type": "code",
   "execution_count": 16,
   "id": "b9ee146d-54b2-41fb-8893-4a4a24f90c38",
   "metadata": {},
   "outputs": [
    {
     "name": "stdout",
     "output_type": "stream",
     "text": [
      "(824, 8)    (824,)\n"
     ]
    }
   ],
   "source": [
    "print(X_train.shape, \"  \", Y_train.shape)"
   ]
  },
  {
   "cell_type": "code",
   "execution_count": 17,
   "id": "cda493e6-42c9-417f-8637-059d34f5de85",
   "metadata": {},
   "outputs": [
    {
     "name": "stdout",
     "output_type": "stream",
     "text": [
      "(9, 1)\n"
     ]
    }
   ],
   "source": [
    "print(theta.shape)"
   ]
  },
  {
   "cell_type": "code",
   "execution_count": 18,
   "id": "841547a9-4a2a-42d2-b24e-2e8818eca7cd",
   "metadata": {},
   "outputs": [
    {
     "data": {
      "image/png": "[encoded data removed]",
      "text/plain": [
       "<Figure size 640x480 with 1 Axes>"
      ]
     },
     "metadata": {},
     "output_type": "display_data"
    }
   ],
   "source": [
    "plt.figure()\n",
    "plt.title(\"Weights\")\n",
    "plt.plot(theta[:-1,:])\n",
    "plt.show()"
   ]
  },
  {
   "cell_type": "code",
   "execution_count": 19,
   "id": "2cfddf18-7a25-41c7-bce4-071cb2ca7f41",
   "metadata": {},
   "outputs": [
    {
     "name": "stdout",
     "output_type": "stream",
     "text": [
      "[0.02780726]\n"
     ]
    }
   ],
   "source": [
    "print(theta[8])"
   ]
  },
  {
   "cell_type": "code",
   "execution_count": 20,
   "id": "e1764078-ee10-4010-b34f-574bfea1b101",
   "metadata": {},
   "outputs": [
    {
     "data": {
      "image/png": "[encoded data removed]",
      "text/plain": [
       "<Figure size 640x480 with 1 Axes>"
      ]
     },
     "metadata": {},
     "output_type": "display_data"
    }
   ],
   "source": [
    "plt.figure()\n",
    "plt.title(\"Learning-Curve\")\n",
    "plt.plot(costs)\n",
    "plt.show()"
   ]
  },
  {
   "cell_type": "code",
   "execution_count": 21,
   "id": "f20a9a2a-7aac-4aa0-b07a-18bc8595e66e",
   "metadata": {},
   "outputs": [],
   "source": [
    "X_tst = np.c_[X_test,np.ones(X_test.shape[0])]\n",
    "Y_prd = np.dot(X_tst,theta)"
   ]
  },
  {
   "cell_type": "code",
   "execution_count": 22,
   "id": "b5dee24f-ce72-43c7-837b-51109f656d0a",
   "metadata": {},
   "outputs": [
    {
     "data": {
      "image/png": "[encoded data removed]",
      "text/plain": [
       "<Figure size 640x480 with 1 Axes>"
      ]
     },
     "metadata": {},
     "output_type": "display_data"
    }
   ],
   "source": [
    "plt.figure()\n",
    "rng = np.arange(Y_prd.shape[0])\n",
    "plt.scatter(rng, Y_test)\n",
    "plt.scatter(rng, Y_prd, color=\"red\")\n",
    "plt.show()"
   ]
  },
  {
   "cell_type": "code",
   "execution_count": null,
   "id": "f82105e0-5492-421f-a5e0-dd7a668b1aeb",
   "metadata": {},
   "outputs": [],
   "source": []
  }
 ],
 "metadata": {
  "kernelspec": {
   "display_name": "Python 3 (ipykernel)",
   "language": "python",
   "name": "python3"
  },
  "language_info": {
   "codemirror_mode": {
    "name": "ipython",
    "version": 3
   },
   "file_extension": ".py",
   "mimetype": "text/x-python",
   "name": "python",
   "nbconvert_exporter": "python",
   "pygments_lexer": "ipython3",
   "version": "3.12.2"
  }
 },
 "nbformat": 4,
 "nbformat_minor": 5
}
