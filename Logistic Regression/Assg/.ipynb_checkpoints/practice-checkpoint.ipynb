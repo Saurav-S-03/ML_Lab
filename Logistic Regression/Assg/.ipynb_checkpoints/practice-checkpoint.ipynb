{
 "cells": [
  {
   "cell_type": "code",
   "execution_count": 1,
   "id": "2374cdbc-593c-4717-8843-2ca41c6e1f7b",
   "metadata": {},
   "outputs": [],
   "source": [
    "import numpy as np\n",
    "import pandas as pd\n",
    "import matplotlib.pyplot as plt"
   ]
  },
  {
   "cell_type": "code",
   "execution_count": 3,
   "id": "a273e032-bce7-441c-8ab9-f131edcd4396",
   "metadata": {},
   "outputs": [],
   "source": [
    "from sklearn.metrics import precision_score, accuracy_score, recall_score, f1_score"
   ]
  },
  {
   "cell_type": "code",
   "execution_count": 4,
   "id": "76073fff-1aa7-4e2d-bbaa-f1287db79bf4",
   "metadata": {},
   "outputs": [],
   "source": [
    "from sklearn.metrics import roc_curve,auc"
   ]
  },
  {
   "cell_type": "code",
   "execution_count": 33,
   "id": "3851d7c4-85f9-4787-8560-0cf9f5e99033",
   "metadata": {},
   "outputs": [],
   "source": [
    "from sklearn.model_selection import train_test_split"
   ]
  },
  {
   "cell_type": "code",
   "execution_count": 30,
   "id": "ebf0b3b9-3eff-4b5d-8650-d61a0ed1a2cf",
   "metadata": {},
   "outputs": [
    {
     "data": {
      "text/html": [
       "<div>\n",
       "<style scoped>\n",
       "    .dataframe tbody tr th:only-of-type {\n",
       "        vertical-align: middle;\n",
       "    }\n",
       "\n",
       "    .dataframe tbody tr th {\n",
       "        vertical-align: top;\n",
       "    }\n",
       "\n",
       "    .dataframe thead th {\n",
       "        text-align: right;\n",
       "    }\n",
       "</style>\n",
       "<table border=\"1\" class=\"dataframe\">\n",
       "  <thead>\n",
       "    <tr style=\"text-align: right;\">\n",
       "      <th></th>\n",
       "      <th>Id</th>\n",
       "      <th>SepalLengthCm</th>\n",
       "      <th>SepalWidthCm</th>\n",
       "      <th>PetalLengthCm</th>\n",
       "      <th>PetalWidthCm</th>\n",
       "      <th>Species</th>\n",
       "    </tr>\n",
       "  </thead>\n",
       "  <tbody>\n",
       "    <tr>\n",
       "      <th>0</th>\n",
       "      <td>1</td>\n",
       "      <td>5.1</td>\n",
       "      <td>3.5</td>\n",
       "      <td>1.4</td>\n",
       "      <td>0.2</td>\n",
       "      <td>Iris-setosa</td>\n",
       "    </tr>\n",
       "    <tr>\n",
       "      <th>1</th>\n",
       "      <td>2</td>\n",
       "      <td>4.9</td>\n",
       "      <td>3.0</td>\n",
       "      <td>1.4</td>\n",
       "      <td>0.2</td>\n",
       "      <td>Iris-setosa</td>\n",
       "    </tr>\n",
       "    <tr>\n",
       "      <th>2</th>\n",
       "      <td>3</td>\n",
       "      <td>4.7</td>\n",
       "      <td>3.2</td>\n",
       "      <td>1.3</td>\n",
       "      <td>0.2</td>\n",
       "      <td>Iris-setosa</td>\n",
       "    </tr>\n",
       "    <tr>\n",
       "      <th>3</th>\n",
       "      <td>4</td>\n",
       "      <td>4.6</td>\n",
       "      <td>3.1</td>\n",
       "      <td>1.5</td>\n",
       "      <td>0.2</td>\n",
       "      <td>Iris-setosa</td>\n",
       "    </tr>\n",
       "    <tr>\n",
       "      <th>4</th>\n",
       "      <td>5</td>\n",
       "      <td>5.0</td>\n",
       "      <td>3.6</td>\n",
       "      <td>1.4</td>\n",
       "      <td>0.2</td>\n",
       "      <td>Iris-setosa</td>\n",
       "    </tr>\n",
       "    <tr>\n",
       "      <th>...</th>\n",
       "      <td>...</td>\n",
       "      <td>...</td>\n",
       "      <td>...</td>\n",
       "      <td>...</td>\n",
       "      <td>...</td>\n",
       "      <td>...</td>\n",
       "    </tr>\n",
       "    <tr>\n",
       "      <th>145</th>\n",
       "      <td>146</td>\n",
       "      <td>6.7</td>\n",
       "      <td>3.0</td>\n",
       "      <td>5.2</td>\n",
       "      <td>2.3</td>\n",
       "      <td>Iris-virginica</td>\n",
       "    </tr>\n",
       "    <tr>\n",
       "      <th>146</th>\n",
       "      <td>147</td>\n",
       "      <td>6.3</td>\n",
       "      <td>2.5</td>\n",
       "      <td>5.0</td>\n",
       "      <td>1.9</td>\n",
       "      <td>Iris-virginica</td>\n",
       "    </tr>\n",
       "    <tr>\n",
       "      <th>147</th>\n",
       "      <td>148</td>\n",
       "      <td>6.5</td>\n",
       "      <td>3.0</td>\n",
       "      <td>5.2</td>\n",
       "      <td>2.0</td>\n",
       "      <td>Iris-virginica</td>\n",
       "    </tr>\n",
       "    <tr>\n",
       "      <th>148</th>\n",
       "      <td>149</td>\n",
       "      <td>6.2</td>\n",
       "      <td>3.4</td>\n",
       "      <td>5.4</td>\n",
       "      <td>2.3</td>\n",
       "      <td>Iris-virginica</td>\n",
       "    </tr>\n",
       "    <tr>\n",
       "      <th>149</th>\n",
       "      <td>150</td>\n",
       "      <td>5.9</td>\n",
       "      <td>3.0</td>\n",
       "      <td>5.1</td>\n",
       "      <td>1.8</td>\n",
       "      <td>Iris-virginica</td>\n",
       "    </tr>\n",
       "  </tbody>\n",
       "</table>\n",
       "<p>150 rows × 6 columns</p>\n",
       "</div>"
      ],
      "text/plain": [
       "      Id  SepalLengthCm  SepalWidthCm  PetalLengthCm  PetalWidthCm  \\\n",
       "0      1            5.1           3.5            1.4           0.2   \n",
       "1      2            4.9           3.0            1.4           0.2   \n",
       "2      3            4.7           3.2            1.3           0.2   \n",
       "3      4            4.6           3.1            1.5           0.2   \n",
       "4      5            5.0           3.6            1.4           0.2   \n",
       "..   ...            ...           ...            ...           ...   \n",
       "145  146            6.7           3.0            5.2           2.3   \n",
       "146  147            6.3           2.5            5.0           1.9   \n",
       "147  148            6.5           3.0            5.2           2.0   \n",
       "148  149            6.2           3.4            5.4           2.3   \n",
       "149  150            5.9           3.0            5.1           1.8   \n",
       "\n",
       "            Species  \n",
       "0       Iris-setosa  \n",
       "1       Iris-setosa  \n",
       "2       Iris-setosa  \n",
       "3       Iris-setosa  \n",
       "4       Iris-setosa  \n",
       "..              ...  \n",
       "145  Iris-virginica  \n",
       "146  Iris-virginica  \n",
       "147  Iris-virginica  \n",
       "148  Iris-virginica  \n",
       "149  Iris-virginica  \n",
       "\n",
       "[150 rows x 6 columns]"
      ]
     },
     "execution_count": 30,
     "metadata": {},
     "output_type": "execute_result"
    }
   ],
   "source": [
    "dataset = pd.read_csv('Iris.csv')\n",
    "dataset"
   ]
  },
  {
   "cell_type": "code",
   "execution_count": 31,
   "id": "80087390-ad91-495a-b38d-b341d150e81b",
   "metadata": {},
   "outputs": [
    {
     "data": {
      "text/plain": [
       "0      0\n",
       "1      0\n",
       "2      0\n",
       "3      0\n",
       "4      0\n",
       "      ..\n",
       "145    1\n",
       "146    1\n",
       "147    1\n",
       "148    1\n",
       "149    1\n",
       "Name: Species, Length: 150, dtype: int32"
      ]
     },
     "execution_count": 31,
     "metadata": {},
     "output_type": "execute_result"
    }
   ],
   "source": [
    "dataset['Species'] = (dataset['Species'] == 'Iris-virginica').astype(int)\n",
    "dataset['Species']"
   ]
  },
  {
   "cell_type": "code",
   "execution_count": 32,
   "id": "0d328abf-8bae-4fd9-b08a-d5de8b1259af",
   "metadata": {},
   "outputs": [
    {
     "data": {
      "text/html": [
       "<div>\n",
       "<style scoped>\n",
       "    .dataframe tbody tr th:only-of-type {\n",
       "        vertical-align: middle;\n",
       "    }\n",
       "\n",
       "    .dataframe tbody tr th {\n",
       "        vertical-align: top;\n",
       "    }\n",
       "\n",
       "    .dataframe thead th {\n",
       "        text-align: right;\n",
       "    }\n",
       "</style>\n",
       "<table border=\"1\" class=\"dataframe\">\n",
       "  <thead>\n",
       "    <tr style=\"text-align: right;\">\n",
       "      <th></th>\n",
       "      <th>Id</th>\n",
       "      <th>SepalLengthCm</th>\n",
       "      <th>SepalWidthCm</th>\n",
       "      <th>PetalLengthCm</th>\n",
       "      <th>PetalWidthCm</th>\n",
       "      <th>Species</th>\n",
       "    </tr>\n",
       "  </thead>\n",
       "  <tbody>\n",
       "    <tr>\n",
       "      <th>0</th>\n",
       "      <td>1</td>\n",
       "      <td>5.1</td>\n",
       "      <td>3.5</td>\n",
       "      <td>1.4</td>\n",
       "      <td>0.2</td>\n",
       "      <td>0</td>\n",
       "    </tr>\n",
       "    <tr>\n",
       "      <th>1</th>\n",
       "      <td>2</td>\n",
       "      <td>4.9</td>\n",
       "      <td>3.0</td>\n",
       "      <td>1.4</td>\n",
       "      <td>0.2</td>\n",
       "      <td>0</td>\n",
       "    </tr>\n",
       "    <tr>\n",
       "      <th>2</th>\n",
       "      <td>3</td>\n",
       "      <td>4.7</td>\n",
       "      <td>3.2</td>\n",
       "      <td>1.3</td>\n",
       "      <td>0.2</td>\n",
       "      <td>0</td>\n",
       "    </tr>\n",
       "    <tr>\n",
       "      <th>3</th>\n",
       "      <td>4</td>\n",
       "      <td>4.6</td>\n",
       "      <td>3.1</td>\n",
       "      <td>1.5</td>\n",
       "      <td>0.2</td>\n",
       "      <td>0</td>\n",
       "    </tr>\n",
       "    <tr>\n",
       "      <th>4</th>\n",
       "      <td>5</td>\n",
       "      <td>5.0</td>\n",
       "      <td>3.6</td>\n",
       "      <td>1.4</td>\n",
       "      <td>0.2</td>\n",
       "      <td>0</td>\n",
       "    </tr>\n",
       "    <tr>\n",
       "      <th>...</th>\n",
       "      <td>...</td>\n",
       "      <td>...</td>\n",
       "      <td>...</td>\n",
       "      <td>...</td>\n",
       "      <td>...</td>\n",
       "      <td>...</td>\n",
       "    </tr>\n",
       "    <tr>\n",
       "      <th>145</th>\n",
       "      <td>146</td>\n",
       "      <td>6.7</td>\n",
       "      <td>3.0</td>\n",
       "      <td>5.2</td>\n",
       "      <td>2.3</td>\n",
       "      <td>1</td>\n",
       "    </tr>\n",
       "    <tr>\n",
       "      <th>146</th>\n",
       "      <td>147</td>\n",
       "      <td>6.3</td>\n",
       "      <td>2.5</td>\n",
       "      <td>5.0</td>\n",
       "      <td>1.9</td>\n",
       "      <td>1</td>\n",
       "    </tr>\n",
       "    <tr>\n",
       "      <th>147</th>\n",
       "      <td>148</td>\n",
       "      <td>6.5</td>\n",
       "      <td>3.0</td>\n",
       "      <td>5.2</td>\n",
       "      <td>2.0</td>\n",
       "      <td>1</td>\n",
       "    </tr>\n",
       "    <tr>\n",
       "      <th>148</th>\n",
       "      <td>149</td>\n",
       "      <td>6.2</td>\n",
       "      <td>3.4</td>\n",
       "      <td>5.4</td>\n",
       "      <td>2.3</td>\n",
       "      <td>1</td>\n",
       "    </tr>\n",
       "    <tr>\n",
       "      <th>149</th>\n",
       "      <td>150</td>\n",
       "      <td>5.9</td>\n",
       "      <td>3.0</td>\n",
       "      <td>5.1</td>\n",
       "      <td>1.8</td>\n",
       "      <td>1</td>\n",
       "    </tr>\n",
       "  </tbody>\n",
       "</table>\n",
       "<p>150 rows × 6 columns</p>\n",
       "</div>"
      ],
      "text/plain": [
       "      Id  SepalLengthCm  SepalWidthCm  PetalLengthCm  PetalWidthCm  Species\n",
       "0      1            5.1           3.5            1.4           0.2        0\n",
       "1      2            4.9           3.0            1.4           0.2        0\n",
       "2      3            4.7           3.2            1.3           0.2        0\n",
       "3      4            4.6           3.1            1.5           0.2        0\n",
       "4      5            5.0           3.6            1.4           0.2        0\n",
       "..   ...            ...           ...            ...           ...      ...\n",
       "145  146            6.7           3.0            5.2           2.3        1\n",
       "146  147            6.3           2.5            5.0           1.9        1\n",
       "147  148            6.5           3.0            5.2           2.0        1\n",
       "148  149            6.2           3.4            5.4           2.3        1\n",
       "149  150            5.9           3.0            5.1           1.8        1\n",
       "\n",
       "[150 rows x 6 columns]"
      ]
     },
     "execution_count": 32,
     "metadata": {},
     "output_type": "execute_result"
    }
   ],
   "source": [
    "dataset"
   ]
  },
  {
   "cell_type": "code",
   "execution_count": 37,
   "id": "2301e527-5809-4a40-91f6-a8c948d2ca11",
   "metadata": {},
   "outputs": [
    {
     "data": {
      "text/plain": [
       "array([0., 0., 0., 0., 0., 0., 0., 0., 0., 0., 0., 0., 0., 0., 0., 0., 0.,\n",
       "       0., 0., 0., 0., 0., 0., 0., 0., 0., 0., 0., 0., 0., 0., 0., 0., 0.,\n",
       "       0., 0., 0., 0., 0., 0., 0., 0., 0., 0., 0., 0., 0., 0., 0., 0., 0.,\n",
       "       0., 0., 0., 0., 0., 0., 0., 0., 0., 0., 0., 0., 0., 0., 0., 0., 0.,\n",
       "       0., 0., 0., 0., 0., 0., 0., 0., 0., 0., 0., 0., 0., 0., 0., 0., 0.,\n",
       "       0., 0., 0., 0., 0., 0., 0., 0., 0., 0., 0., 0., 0., 0., 0., 1., 1.,\n",
       "       1., 1., 1., 1., 1., 1., 1., 1., 1., 1., 1., 1., 1., 1., 1., 1., 1.,\n",
       "       1., 1., 1., 1., 1., 1., 1., 1., 1., 1., 1., 1., 1., 1., 1., 1., 1.,\n",
       "       1., 1., 1., 1., 1., 1., 1., 1., 1., 1., 1., 1., 1., 1.])"
      ]
     },
     "execution_count": 37,
     "metadata": {},
     "output_type": "execute_result"
    }
   ],
   "source": [
    "df = dataset.values\n",
    "X = df[:,1:5]\n",
    "Y = df[:,5]\n",
    "Y"
   ]
  },
  {
   "cell_type": "code",
   "execution_count": 38,
   "id": "bc10692f-0c80-46b2-a77d-413c17448b58",
   "metadata": {},
   "outputs": [],
   "source": [
    "X_test, X_train, Y_test, Y_train = train_test_split(X, Y, train_size=0.8, random_state=50)"
   ]
  },
  {
   "cell_type": "code",
   "execution_count": 39,
   "id": "17d613c0-3cdb-4460-b89b-00d94fd45cf1",
   "metadata": {},
   "outputs": [
    {
     "name": "stdout",
     "output_type": "stream",
     "text": [
      "(120, 4)\n",
      "(120,)\n"
     ]
    }
   ],
   "source": [
    "print(X_test.shape)\n",
    "print(Y_test.shape)"
   ]
  },
  {
   "cell_type": "code",
   "execution_count": 40,
   "id": "ed9d8028-ab20-486b-acf5-586ce611158b",
   "metadata": {},
   "outputs": [],
   "source": [
    "def sigmoid(X):\n",
    "    return 1/(1 + np.exp(-X))"
   ]
  },
  {
   "cell_type": "code",
   "execution_count": 46,
   "id": "2568687f-b418-4eb8-8c73-061e780dd0d4",
   "metadata": {},
   "outputs": [],
   "source": [
    "def cost(Y,Y_pred):\n",
    "    m = Y.shape[0]\n",
    "    cost = (-1*m) * np.sum(Y*np.log(Y_pred) + (1-Y)*np.log(1-Y_pred))\n",
    "    return cost"
   ]
  },
  {
   "cell_type": "code",
   "execution_count": 49,
   "id": "651bac5c-c2ea-4f9a-894a-027bfcd31b42",
   "metadata": {},
   "outputs": [],
   "source": [
    "def model(X, Y, lrn, alpha):\n",
    "    m = X.shape[0]\n",
    "    n = X.shape[1]\n",
    "    Y = Y.reshape(1,m)\n",
    "    X = X.T\n",
    "    W = np.zeros((1,n))\n",
    "    B = 0\n",
    "    costs = []\n",
    "    for i in range(lrn):\n",
    "        A = sigmoid(np.dot(W,X) + B)\n",
    "        cost1 = cost(Y,A)\n",
    "        costs.append(cost1)\n",
    "\n",
    "        dw = (1/m)*np.dot(A-Y,X.T)\n",
    "        db = (1/m)*np.sum(A-Y)\n",
    "\n",
    "        W = W - alpha*dw\n",
    "        B = B - alpha*db\n",
    "        if(i%100 == 0):\n",
    "            print(i,\" -- \",cost1)\n",
    "    return W,B,costs"
   ]
  },
  {
   "cell_type": "code",
   "execution_count": 59,
   "id": "2306a8cc-b6e9-4f6c-b534-7677a2235a7c",
   "metadata": {},
   "outputs": [
    {
     "name": "stdout",
     "output_type": "stream",
     "text": [
      "0  --  83.17766166719343\n",
      "100  --  26.148438752064784\n",
      "200  --  20.7589410043353\n",
      "300  --  17.845414989064096\n",
      "400  --  15.988151049642664\n",
      "500  --  14.687339505965177\n",
      "600  --  13.71770280885038\n",
      "700  --  12.962211891644607\n",
      "800  --  12.353829511680052\n",
      "900  --  11.851274651474178\n",
      "1000  --  11.427665573188118\n",
      "1100  --  11.064700019597835\n",
      "1200  --  10.749456002556407\n",
      "1300  --  10.472530453394533\n",
      "1400  --  10.226904247514758\n",
      "1500  --  10.00722229106442\n",
      "1600  --  9.809321247606618\n",
      "1700  --  9.629910582354984\n",
      "1800  --  9.46635161897407\n",
      "1900  --  9.31650103588819\n",
      "2000  --  9.178597791023305\n",
      "2100  --  9.051179966286204\n",
      "2200  --  8.933022635381075\n",
      "2300  --  8.823090768404528\n",
      "2400  --  8.72050306562529\n",
      "2500  --  8.624503851921382\n",
      "2600  --  8.53444099618654\n",
      "2700  --  8.449748389647091\n",
      "2800  --  8.369931912903628\n",
      "2900  --  8.29455810069837\n",
      "3000  --  8.223244912989529\n",
      "3100  --  8.15565416538696\n",
      "3200  --  8.091485277811223\n",
      "3300  --  8.030470078572618\n",
      "3400  --  7.972368459652213\n",
      "3500  --  7.916964723198705\n",
      "3600  --  7.864064492948105\n",
      "3700  --  7.8134920901529945\n",
      "3800  --  7.765088293644254\n",
      "3900  --  7.718708419274234\n",
      "4000  --  7.674220666263563\n",
      "4100  --  7.631504687677031\n",
      "4200  --  7.590450349974096\n",
      "4300  --  7.550956652758084\n",
      "4400  --  7.5129307848213\n",
      "4500  --  7.476287296607725\n",
      "4600  --  7.440947372488369\n",
      "4700  --  7.406838188919878\n",
      "4800  --  7.373892346754372\n",
      "4900  --  7.342047367780758\n",
      "5000  --  7.311245247079139\n",
      "5100  --  7.2814320540191355\n",
      "5200  --  7.252557575775182\n",
      "5300  --  7.224574998106604\n",
      "5400  --  7.197440618885235\n",
      "5500  --  7.171113590474138\n",
      "5600  --  7.1455556875867146\n",
      "5700  --  7.120731097702311\n",
      "5800  --  7.096606231494861\n",
      "5900  --  7.073149551056841\n",
      "6000  --  7.0503314139796665\n",
      "6100  --  7.028123931591489\n",
      "6200  --  7.0065008398602036\n",
      "6300  --  6.985437381647994\n",
      "6400  --  6.964910199158666\n",
      "6500  --  6.944897235553267\n",
      "6600  --  6.9253776448266695\n",
      "6700  --  6.906331709139669\n",
      "6800  --  6.8877407628905845\n",
      "6900  --  6.8695871228883165\n",
      "7000  --  6.851854024057764\n",
      "7100  --  6.834525560168461\n",
      "7200  --  6.817586629130998\n",
      "7300  --  6.801022882452414\n",
      "7400  --  6.784820678483518\n",
      "7500  --  6.7689670391278565\n",
      "7600  --  6.753449609714822\n",
      "7700  --  6.73825662176845\n",
      "7800  --  6.723376858429299\n",
      "7900  --  6.708799622309996\n",
      "8000  --  6.694514705585632\n",
      "8100  --  6.680512362138748\n",
      "8200  --  6.666783281594934\n",
      "8300  --  6.653318565100335\n",
      "8400  --  6.640109702705287\n",
      "8500  --  6.627148552230592\n",
      "8600  --  6.614427319503613\n",
      "8700  --  6.601938539861171\n",
      "8800  --  6.589675060825078\n",
      "8900  --  6.577630025863977\n",
      "9000  --  6.565796859162537\n",
      "9100  --  6.554169251325462\n",
      "9200  --  6.5427411459497975\n",
      "9300  --  6.531506727004302\n",
      "9400  --  6.520460406959675\n",
      "9500  --  6.50959681561776\n",
      "9600  --  6.498910789592064\n",
      "9700  --  6.488397362395469\n",
      "9800  --  6.478051755094523\n",
      "9900  --  6.4678693674927565\n"
     ]
    }
   ],
   "source": [
    "lrn = 10000\n",
    "apl = 0.2\n",
    "W,B,costs = model(X_test,Y_test,lrn,apl)"
   ]
  },
  {
   "cell_type": "code",
   "execution_count": 60,
   "id": "f2b4f83f-ba37-4114-8733-7a12a26537f9",
   "metadata": {},
   "outputs": [
    {
     "data": {
      "text/plain": [
       "array([[-2.66867468, -6.77236171,  5.49856138,  8.87911975]])"
      ]
     },
     "execution_count": 60,
     "metadata": {},
     "output_type": "execute_result"
    }
   ],
   "source": [
    "W"
   ]
  },
  {
   "cell_type": "code",
   "execution_count": 61,
   "id": "2c487429-e019-4b84-b1d6-1fd665b78175",
   "metadata": {},
   "outputs": [
    {
     "data": {
      "text/plain": [
       "-5.290046836328535"
      ]
     },
     "execution_count": 61,
     "metadata": {},
     "output_type": "execute_result"
    }
   ],
   "source": [
    "B"
   ]
  },
  {
   "cell_type": "code",
   "execution_count": 62,
   "id": "ba6be801-1b51-485f-86a5-1242743cb10f",
   "metadata": {},
   "outputs": [
    {
     "data": {
      "image/png": "[encoded data removed]",
      "text/plain": [
       "<Figure size 640x480 with 1 Axes>"
      ]
     },
     "metadata": {},
     "output_type": "display_data"
    }
   ],
   "source": [
    "plt.figure()\n",
    "plt.title(\"Cost vs Iterations\")\n",
    "plt.xlabel(\"Iteration\")\n",
    "plt.ylabel(\"Cost\")\n",
    "plt.plot(np.arange(lrn),costs)\n",
    "plt.show()"
   ]
  },
  {
   "cell_type": "code",
   "execution_count": null,
   "id": "b3ff55a9-b50f-4958-85ec-95d184c9d70f",
   "metadata": {},
   "outputs": [],
   "source": []
  }
 ],
 "metadata": {
  "kernelspec": {
   "display_name": "Python 3 (ipykernel)",
   "language": "python",
   "name": "python3"
  },
  "language_info": {
   "codemirror_mode": {
    "name": "ipython",
    "version": 3
   },
   "file_extension": ".py",
   "mimetype": "text/x-python",
   "name": "python",
   "nbconvert_exporter": "python",
   "pygments_lexer": "ipython3",
   "version": "3.12.2"
  }
 },
 "nbformat": 4,
 "nbformat_minor": 5
}
